{
 "cells": [
  {
   "attachments": {},
   "cell_type": "markdown",
   "id": "b52fe57d",
   "metadata": {},
   "source": [
    "##  第3章 指令 (Statements)\n",
    "\n",
    "### 問：複習一下，我們到目前為止學習過的指令有記得多少？\n",
    "答：試試大家的記憶體有多大：\n",
    "\t\n",
    "1. 列印指令\n",
    "2. 指派指令\n",
    "3. f-字串指令\n",
    "4. 註解指令\n",
    "5. 空白行指令\n",
    "6. 假設指令\n",
    "\n",
    "以上指令都有學過喔！忘了回頭複習一下吧。\n",
    "\n",
    "其中除了註解指令及空白行指令外，全都是 Python 的執行指令。接下來我們要學習迴路指令。 \n",
    "\n",
    "這𥚃我們將介紹更多指令，叫做迴路或迴圈指令。\n",
    "\n",
    "對於重複的任務我們可以用 Python 迴路指令來設定在某種條件下，由一個程式區塊來執行重複的任務。\n",
    "\n",
    "Python 的迴路指令，只有兩種：\n",
    "\n",
    "1. for 迴路指令\n",
    "2. while 迴路指令\n",
    "\n",
    "### 3.1 介紹 for 迴路指令\n",
    "\n",
    "#### 語法\n",
    "\n",
    "\tfor <條件敍述> 若為真：\n",
    "\t\n",
    "\t\t     <程式區塊>\n",
    "\n",
    "其中：\n",
    "\t\n",
    "1. <條件敍述> 最常用的型態是 <物件變數> in <序列物件>\n",
    "2. 序列物件的特性就是有可迴圈（iterable) 的迭代性\n",
    "\t目前我們學習過的字串物件，就是序列物件的一個例子\n",
    "\t下一章我們還會學習更多的序列物件，包含有：\n",
    "\t\t列表、元組、集合、字典等序列物件\n",
    "3. 當序列物件從頭到尾的迴圈中，\n",
    "\tPython 逐個元素載入物件變數，執行此程式區塊\n",
    "4. 在程式區塊中，Python 又設計兩個控制指令，如下： \n",
    "\n",
    "\t1. 破圈指令（break statement）：讓我們終止執行  for 迴路指令破圈而出，接著執行 for 迴路指令下面的指令\n",
    "\t2. 跳圈指令（continue statement)：讓我們終止執行此程式區塊並執行下一輪廻路的<條件敍述>\n",
    "\n",
    "#### 注意：\n",
    "\n",
    "保留字: for 那一行最後的字元必須是「：」\n",
    "保留字: in <序列物件> 就是要求 Python 把此序列中元素建成一個迴圈 (iterable)\n",
    "\n",
    "#### 看一下 for 廻路指令的程式，例子如下：\n"
   ]
  },
  {
   "cell_type": "code",
   "execution_count": 4,
   "id": "eb0f62e1",
   "metadata": {},
   "outputs": [
    {
     "name": "stdout",
     "output_type": "stream",
     "text": [
      "for 廻路開始...\n",
      "哈-囉-,- -尤-勇-.- -歡-迎-!-\n",
      "for 廻路結束\n"
     ]
    }
   ],
   "source": [
    "message = '哈囉, 尤勇. 歡迎!'\n",
    "\n",
    "print('for 廻路開始...')\n",
    "\n",
    "for char in message:\n",
    "    print(f'{char}', end='-')\n",
    "print()\n",
    "print('for 廻路結束')\n"
   ]
  },
  {
   "cell_type": "code",
   "execution_count": 19,
   "id": "c3aae1c3",
   "metadata": {},
   "outputs": [
    {
     "name": "stdout",
     "output_type": "stream",
     "text": [
      "for 迴圈開始...\n",
      "哈-囉-,- -尤-勇-\n",
      "===>碰到 \".\" 破圈而出!\n",
      "for 迴圈終止\n",
      "\n"
     ]
    }
   ],
   "source": [
    "# 破圈指令（break statement）例子\n",
    "message = '哈囉, 尤勇. 歡迎!'\n",
    "\n",
    "print('for 迴圈開始...')\n",
    "\n",
    "for char in message:\n",
    "\n",
    "    if char == \".\":\n",
    "        print(f'\\n===>碰到 \"{char}\" 破圈而出!')\n",
    "        \n",
    "        # 破圈指令 break\n",
    "        break\n",
    "    \n",
    "    print(f'{char}', end='-')\n",
    "\n",
    "print('for 迴圈終止\\n')\n"
   ]
  },
  {
   "cell_type": "code",
   "execution_count": 20,
   "id": "63a9de8a",
   "metadata": {},
   "outputs": [
    {
     "name": "stdout",
     "output_type": "stream",
     "text": [
      "for 迴圈開始...\n",
      "哈-囉-,- -尤-勇-\n",
      "===>碰到 \".\" 跳下一迴圈!\n",
      " -歡-迎-!-\n",
      "for 迴圈終止\n"
     ]
    }
   ],
   "source": [
    "# 跳圈指令 (continue statement)例子\n",
    "print('for 迴圈開始...')\n",
    "\n",
    "for char in message:\n",
    "    \n",
    "    if char == \".\":\n",
    "        print(f'\\n===>碰到 \"{char}\" 跳下一迴圈!')\n",
    "        \n",
    "        # 跳圈指令 continue\n",
    "        continue\n",
    "    \n",
    "    print(f'{char}', end='-')\n",
    "print()\n",
    "print('for 迴圈終止')\n"
   ]
  },
  {
   "attachments": {},
   "cell_type": "markdown",
   "id": "65ce7c5a",
   "metadata": {},
   "source": [
    "### 問：迴路指令中，有內建計數器的功能嗎？\n",
    "答：是的。\n",
    "\n",
    "一般較古老計數器程式是這樣寫：\n",
    "\n",
    "\tcounter = 0        # 計數器設初值\n",
    "\tcounter_end = 5    # 計數器設終值\n",
    "\t\n",
    "\tfor counter < counter_end:\n",
    "\t\t<程式區塊>\n",
    "\t\tcounter += 1   # 計數器加一\n",
    "\t\t\n",
    "Python 簡化成用一個函式 range(範圍) 來當計數器。\n",
    "\n",
    "#### 以下程式說明：\n"
   ]
  },
  {
   "cell_type": "code",
   "execution_count": 23,
   "id": "ad21cb22",
   "metadata": {},
   "outputs": [
    {
     "name": "stdout",
     "output_type": "stream",
     "text": [
      "for 計數器開始...\n",
      "0-1-2-\n",
      "for 計數器終止\n",
      "\n"
     ]
    }
   ],
   "source": [
    "# range() 函式例子\n",
    "print('for 計數器開始...')\n",
    "\n",
    "for num in range(3):\n",
    "    print(f'{num}', end='-')\n",
    "print('\\nfor 計數器終止\\n')\n"
   ]
  },
  {
   "cell_type": "code",
   "execution_count": 24,
   "id": "f0234fcd",
   "metadata": {},
   "outputs": [
    {
     "name": "stdout",
     "output_type": "stream",
     "text": [
      "兩層迴圈開始...\n",
      "===>第一層迴圈開始...\n",
      "===>===>第二層迴圈開始...\n",
      "\t0-a-\t0-b-\t0-c-\n",
      "===>===>第二層迴圈終止\n",
      "===>===>第二層迴圈開始...\n",
      "\t1-a-\t1-b-\t1-c-\n",
      "===>===>第二層迴圈終止\n",
      "===>===>第二層迴圈開始...\n",
      "\t2-a-\t2-b-\t2-c-\n",
      "===>===>第二層迴圈終止\n",
      "===>第一層迴圈終止\n",
      "兩層迴圈終止\n"
     ]
    }
   ],
   "source": [
    "# 兩層迴路的例子\n",
    "print('兩層迴圈開始...')\n",
    "print('===>第一層迴圈開始...')\n",
    "\n",
    "for num in range(3):    \n",
    "    print(f'===>===>第二層迴圈開始...')\n",
    "    for char in 'abc':\n",
    "        print(f'\\t{num}-{char}', end='-')\n",
    "    print(f'\\n===>===>第二層迴圈終止')\n",
    "print('===>第一層迴圈終止')\n",
    "print('兩層迴圈終止')\n"
   ]
  },
  {
   "attachments": {},
   "cell_type": "markdown",
   "id": "9ae82820",
   "metadata": {},
   "source": [
    "### 3.2 while 迴圈指令\n",
    "\n",
    "#### 語法\n",
    "\n",
    "\twhile <條件敍述>為真：\n",
    "\t\t\t<程式區塊>\n",
    "\t\n",
    "其中：\n",
    "\n",
    "1. 條件敍述若為真，就執行廻圈內程式區塊。\n",
    "2. while 廻圈指令也可在程式區塊中，\n",
    "\t呼叫破圈指令（break）和跳圈指令（continue）。\n",
    "\n",
    "#### 注意：\n",
    "\n",
    "保留字 while 那一行最後的字元必須是「：」。\n",
    "\n",
    "#### 看一下 while 廻圈指令的程式例子如下：\n"
   ]
  },
  {
   "cell_type": "code",
   "execution_count": 26,
   "id": "3108a549",
   "metadata": {},
   "outputs": [
    {
     "name": "stdout",
     "output_type": "stream",
     "text": [
      "while 廻圈開始...\n",
      "\t counter = 0\n",
      "\t counter = 1\n",
      "\t counter = 2\n",
      "\t counter = 3\n",
      "\t counter = 4\n",
      "\t counter = 5\n",
      "\t counter = 6\n",
      "\t counter = 7\n",
      "\t counter = 8\n",
      "\t counter = 9\n",
      "while 廻圈終止\n",
      "\n"
     ]
    }
   ],
   "source": [
    "counter = 0   # counter 設初值\n",
    "\n",
    "print('while 廻圈開始...')\n",
    "while counter < 10:\n",
    "    print(f'\\t counter = {counter}')\n",
    "\n",
    "    counter += 1   # counter 加一\n",
    "\n",
    "print('while 廻圈終止\\n')\n"
   ]
  },
  {
   "cell_type": "code",
   "execution_count": 27,
   "id": "8c527013",
   "metadata": {},
   "outputs": [
    {
     "name": "stdout",
     "output_type": "stream",
     "text": [
      "while 廻圈開始...\n",
      "\t counter = 0\n",
      "\t counter = 1\n",
      "\t counter = 2\n",
      "\t counter = 3\n",
      "\t counter = 4\n",
      "\t counter = 5\n",
      "\t while 廻圈中碰到 5 破圈而出...\n",
      "while 廻圈終止\n",
      "\n"
     ]
    }
   ],
   "source": [
    "counter = 0   # counter 設初值\n",
    "\n",
    "print('while 廻圈開始...')\n",
    "while counter < 10:    \n",
    "    print(f'\\t counter = {counter}')\n",
    "\n",
    "    if counter == 5:\n",
    "        print(f'\\t while 廻圈中碰到 {counter} 破圈而出...')\n",
    "        break\n",
    "\n",
    "    counter += 1   # counter 加一\n",
    "        \n",
    "print('while 廻圈終止\\n')\n"
   ]
  }
 ],
 "metadata": {
  "kernelspec": {
   "display_name": "Python 3 (ipykernel)",
   "language": "python",
   "name": "python3"
  },
  "language_info": {
   "codemirror_mode": {
    "name": "ipython",
    "version": 3
   },
   "file_extension": ".py",
   "mimetype": "text/x-python",
   "name": "python",
   "nbconvert_exporter": "python",
   "pygments_lexer": "ipython3",
   "version": "3.9.7"
  }
 },
 "nbformat": 4,
 "nbformat_minor": 5
}
