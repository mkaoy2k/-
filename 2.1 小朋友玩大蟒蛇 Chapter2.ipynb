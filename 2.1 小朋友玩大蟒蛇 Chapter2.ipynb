{
 "cells": [
  {
   "cell_type": "markdown",
   "id": "f6625b0b",
   "metadata": {},
   "source": [
    "## 第2章 常用物件之1 （Objects 1/2）\n",
    "\n",
    "\n",
    "### 2.1 字串（String）\n",
    "\n",
    "第一個常用的物件就是我們程式中用的「字串」。\n",
    "\t\n",
    "字串的定義是用**單引號（‘）**或**雙引號（”）**一前一後來包裝一段字元訊息。\n",
    "\n",
    "#### 語法\n",
    "\n",
    "\t' <字元列> '\n",
    "\t\" <字元列> \"\n",
    "\n",
    "上面學習過第一個哈囉程式中的（哈囉，您好！），就是一串<字元列>，也就是我們用單引號，一前一後包裝起來的字串物件的例子。再比如：\n",
    "\n",
    "\t‘我叫志明’\n",
    "\t“我叫春嬌”\n",
    "\n",
    "以上皆是字串物件的例子。\n"
   ]
  },
  {
   "cell_type": "code",
   "execution_count": 2,
   "id": "c31a0b85",
   "metadata": {},
   "outputs": [],
   "source": [
    "name1 = '我叫志明'\n",
    "name2 = \"我叫春嬌\""
   ]
  },
  {
   "cell_type": "markdown",
   "id": "ed8a8cde",
   "metadata": {},
   "source": [
    "### 介紹「指派 」指令 (assignment statement)\n",
    "\n",
    "#### 語法\n",
    "\n",
    "\tA = <敘述>\n",
    "\n",
    "Python 設計指派指令讓我們可以將某<敘述>指派一個名稱或者說是將某<敘述>貼上一個標記A。其特色如下：\n",
    "\t\n",
    "1. 指派指令不用英文字 assign 而是用大家耳熟能詳的數學符號：**等號（=）**來表示。\n",
    "2. 指派的目標寫在**等號（=）**的左邊\n",
    "3. 等號右邊的<敘述>可以是任何資料運算操作。\n",
    "\t\n",
    "舉上面的例子，我們就是把右邊一串招呼訊息（**'哈囉，您好！'**）包裝成字串物件，然後指派一個名稱叫做 message。這個名稱 Python 叫它是「變數」。\n",
    "\t\n",
    "變數的命名，Python 有以下命名規則：\n",
    "\t\n",
    "1. 變數名稱可以是任何大小寫的英文字母或下底線（_）或數字所組成。\n",
    "2. 變數名稱開頭不可以是數字\n",
    "\t\n",
    "詳細變數的介紹容後在第6章 (6.2) 詳细再加以說明。\n",
    "\n",
    "### 現在回來小結一下\n",
    "\n",
    "如果把前面我們學過的列印指令，加上剛學的指派指令，於是哈囉程式也可以變成二行，如下：\n"
   ]
  },
  {
   "cell_type": "code",
   "execution_count": 3,
   "id": "e17f7a9f",
   "metadata": {},
   "outputs": [
    {
     "name": "stdout",
     "output_type": "stream",
     "text": [
      "哈囉，您好!\n"
     ]
    }
   ],
   "source": [
    "message = '哈囉，您好!'\n",
    "print(message)"
   ]
  },
  {
   "cell_type": "markdown",
   "id": "31de00dc",
   "metadata": {},
   "source": [
    "#### 太簡單了！\n",
    "\n",
    "哈囉程式二版，我們加了一個然後列印指令的參數列用這個字串物件的變數完成了。\n",
    "\n",
    "接下來再印两個字串物件看看，例子如下：\n"
   ]
  },
  {
   "cell_type": "code",
   "execution_count": 4,
   "id": "babe49b4",
   "metadata": {},
   "outputs": [
    {
     "name": "stdout",
     "output_type": "stream",
     "text": [
      "我叫志明\n",
      "我叫春嬌\n"
     ]
    }
   ],
   "source": [
    "name1 = '我叫志明'\n",
    "print(name1)\n",
    "\n",
    "name2 = \"我叫春嬌\"\n",
    "print(name2)\n"
   ]
  },
  {
   "cell_type": "markdown",
   "id": "127000ca",
   "metadata": {},
   "source": [
    "#### 問：字串物件可以裝多長的訊息呢？只能放一行訊息或是很多行呢？\n",
    "答：凡事都有它的侷限，字串物件亦然。\n",
    "\n",
    "字串長度決定的因素有二：\n",
    "\t\n",
    "1. 不同操作系统 (Operating System)的架構\n",
    "2. 不同國家地區使用的字集 (Character Set)\n",
    "\t\t\n",
    "詳细情形，有興趣可 Google 一下電腦操作系統及字集國際標準的課程有更透徹的原理說明。\n",
    "\t\n",
    "對剛入門的我們可以簡單這樣了解：若在 64-bit 操作系统下，只用英文字集的話，最長约900萬 Tera Bytes (1 TB = 9x1018  Bytes)。這個數字超大的。若用中文字集 (2個 Bytes 代表一個中文字) 就要減半，變成可容納 450萬 TB也夠大了。我們一般應用程式不會受到此限制所影響。\n"
   ]
  },
  {
   "cell_type": "markdown",
   "id": "345f9946",
   "metadata": {},
   "source": [
    "#### 問：字串物件是否可存放多行訊息？\n",
    "答：可以。\n",
    "\t\n",
    "舉例，以下一則很多行的笑話如下：\n",
    "\t\n",
    "\t\t入學第一天第一堂課，老師要全班同學自我介紹。\n",
    "\t\t\n",
    "\t\t一位男同學走上講台大聲說：\n",
    "\t\t『我叫尤勇，來自台北，我愛下棋！』\n",
    "\t\t說完就走下台去了。\n",
    "\t\t\n",
    "\t\t下一位是個女生，女同學走上講台嬌羞地，\n",
    "\t\t小聲地自我介紹：\n",
    "\t\t『我…叫夏琪， …我喜歡游泳…』\n",
    "\t\t\n",
    "\t\t全班哄堂大笑！\n",
    "\n",
    "這一種情況，Python 設計讓我們用三個雙引號（\"）或單引號（'），前後把整篇多行的笑話包裝進一個字串物件中。\n",
    "\t\n",
    "#### 多行字串物件的程式如下：\n"
   ]
  },
  {
   "cell_type": "code",
   "execution_count": 1,
   "id": "a060a927",
   "metadata": {},
   "outputs": [
    {
     "name": "stdout",
     "output_type": "stream",
     "text": [
      "\n",
      "    入學第一天第一堂課，老師要全班同學自我介紹。\n",
      "\n",
      "    一位男同學走上講台大聲說：\n",
      "    『我叫尤勇，來自台北，我愛下棋！』\n",
      "    說完就走下台去了。\n",
      "\n",
      "    下一位是個女生，女同學走上講台嬌羞地，\n",
      "    小聲地自我介紹：\n",
      "    『我…叫夏琪， …我喜歡游泳…』\n",
      "\n",
      "    全班哄堂大笑！\n",
      "\n"
     ]
    }
   ],
   "source": [
    "# 二行以上落落長的笑話用三個雙引號前後包装成一個字串\n",
    "# 然後指派到一個變數，名叫 joke\n",
    "joke = \"\"\"\n",
    "    入學第一天第一堂課，老師要全班同學自我介紹。\n",
    "\n",
    "    一位男同學走上講台大聲說：\n",
    "    『我叫尤勇，來自台北，我愛下棋！』\n",
    "    說完就走下台去了。\n",
    "\n",
    "    下一位是個女生，女同學走上講台嬌羞地，\n",
    "    小聲地自我介紹：\n",
    "    『我…叫夏琪， …我喜歡游泳…』\n",
    "\n",
    "    全班哄堂大笑！\n",
    "\"\"\"\n",
    "\n",
    "print(joke)\n"
   ]
  },
  {
   "attachments": {},
   "cell_type": "markdown",
   "id": "2744787d",
   "metadata": {},
   "source": [
    "### 「註解」指令 (Comments)\n",
    "\n",
    "上面這一段程式除了執行指令（给 Python 執行的）之外，不知各位是否注意到加入二條註解指令（\"#\" 開頭， 專為人類看的敍述）Python 不會當指令執行 。 如上面第一行和第二行都是註解指令。\n",
    "\n",
    "### 小結一下：\n",
    "\n",
    "任何一個Python 程式來都可以有下列三種指令類型所组成。\n",
    "\n",
    "1. Python 執行的指令 (statements)\n",
    "2. 人們看的註解指令 (comments)\n",
    "3. 人們留白的空白行指令 (blank lines) \n",
    "\n",
    "Python 只懂得第一種執行指令而依序執行。 詳細的執行指令我們陸續會學習， 現在有一個簡單的概念就行。\n",
    "    \n",
    "其中後面兩種指令：註解和空白行是專為程式讀者做註解及留白所設的。一個好的程式設計師必須養成在程式中寫註解指令的好習慣。\n",
    "\t\n",
    "另外上面的多行字串，Python 也讓我們用它來寫檔案或模塊手冊 (Documentation)，而不用每一行一行都要用 \"#\" 的註解指令，省了不少麻煩。\n",
    "\t\n",
    "例如説有一個 Python 檔案，叫 \"greetings.py\"。這個程式設計師就利用多行字串，把它的使用手冊寫進程式檔案中，如下：\n",
    "\t\n",
    "    \"\"\" 呼叫輸入函式 input(<提示字串>)，\n",
    "\t Python 能印出一段提示字串，\n",
    "\t 然後等使用者輸入資訊，\n",
    "\t 按 enter 鍵後，\n",
    "\t Python 再返回程式生成字串物件。\n",
    "    \"\"\"\n",
    "\n",
    "於是乎任何人可以用 help 指令，就能很方便列印出使用手冊：\n"
   ]
  },
  {
   "cell_type": "markdown",
   "id": "ac7ad2e3",
   "metadata": {},
   "source": [
    "#### 問：字串物件中的訊息輸出簡單，那麼如何輸入訊息給程式呢？\n",
    "答：輸入訊息一樣簡單，有輸入函式可以呼叫。\n",
    "\n",
    "下面就來介绍如何呼叫輸入函式：\n",
    "\n",
    "\tstring = input (<提示字串>)\n",
    "\n",
    "Python 能印出一段提示字串，然後等使用者輸入資訊，按 enter 鍵後，Python 再返回程式生成字串物件。這個物件包裝有使用者輸入的資訊。\n",
    "\t\n",
    "至於函式的詳細內容後面會介紹的。\n",
    "\t\n",
    "#### 現在我們看程式如下：\n"
   ]
  },
  {
   "cell_type": "code",
   "execution_count": 6,
   "id": "a7679444",
   "metadata": {},
   "outputs": [
    {
     "name": "stdout",
     "output_type": "stream",
     "text": [
      "請問你的名字叫: 尤勇\n",
      "尤勇\n"
     ]
    }
   ],
   "source": [
    "# 從鍵盤輸入，呼叫 input(<提示字串>)函式\n",
    "name = input(\"請問你的名字叫: \")\n",
    "\n",
    "# 螢幕上輸出\n",
    "print(name)\n"
   ]
  },
  {
   "cell_type": "markdown",
   "id": "4b161986",
   "metadata": {},
   "source": [
    "### 字串物件的運算\n",
    "\n",
    "字串物件的常用運算操作，有下列五種：\n",
    "\n",
    "1. 字串物件的粘接 (Concatenation) \n",
    "2. 字串物件的方法（Methods）\n",
    "3. 字串物件的格式化 (Formats)\n",
    "4. 字串物件可套用的函式（Functions）\n",
    "5. 字串物件的截取（Slicing）\n",
    "\n",
    "### 字串物件的粘接 (Concatenation) \n",
    "\n",
    "#### 語法\n",
    "\n",
    "\t<字串物件> + <字串物件> + ...\n",
    "\t\n",
    "多個字串物件可以粘接成一個字串物件。其運算子 (Operator) Python 設計用  \"+\" 來表示。\n",
    "\t\n",
    "#### 字串物件粘接的例子，如下：\n"
   ]
  },
  {
   "cell_type": "code",
   "execution_count": 7,
   "id": "318edaf3",
   "metadata": {},
   "outputs": [
    {
     "name": "stdout",
     "output_type": "stream",
     "text": [
      "多個字串物件粘接成一個字串物件，列印出來如下：\n",
      "哈囉, 尤勇. 歡迎!\n"
     ]
    }
   ],
   "source": [
    "greeting = '哈囉'\n",
    "name = '尤勇'\n",
    "\n",
    "# 兩個字串物件之間，用 '+' 運算子粘接\n",
    "print('多個字串物件粘接成一個字串物件，列印出來如下：')\n",
    "message = greeting + ', ' + name + '. 歡迎!'\n",
    "print(message)\n"
   ]
  },
  {
   "cell_type": "markdown",
   "id": "f50c4cc2",
   "metadata": {},
   "source": [
    "### 字串物件的方法（Method）\n",
    "\n",
    "物件的方法（Method）是附屬於物件而提供跟該物件相關的而且可以重覆呼叫的程式。詳細的物件方法我們後面會再更詳細介绍。\n",
    "\t\n",
    "目前先介绍字串物件幾個常用的方法，例子如下：\n"
   ]
  },
  {
   "cell_type": "code",
   "execution_count": 2,
   "id": "1b11b31a",
   "metadata": {},
   "outputs": [
    {
     "name": "stdout",
     "output_type": "stream",
     "text": [
      "hello, 尤勇. 歡迎!\n",
      "HELLO, 尤勇. 歡迎!\n"
     ]
    }
   ],
   "source": [
    "message = 'Hello, 尤勇. 歡迎!'\n",
    "# 字元位置  0123456 78 9\n",
    "\n",
    "# lower case method（適用於英文轉換小寫的方法）\n",
    "print(message.lower())\n",
    "\n",
    "# upper case method（適用於英文轉換大寫的方法）\n",
    "print(message.upper())"
   ]
  },
  {
   "cell_type": "code",
   "execution_count": 7,
   "id": "c394e7c5",
   "metadata": {},
   "outputs": [
    {
     "name": "stdout",
     "output_type": "stream",
     "text": [
      "message 字串中有幾個 \"h\"?\n",
      "0\n",
      "message 字串中有幾個 \"H\"?\n",
      "1\n",
      "message 字串中有幾個 \"l\"?\n",
      "2\n"
     ]
    }
   ],
   "source": [
    "message = 'Hello, 尤勇. 歡迎!'\n",
    "# 字元位置  0123456 78 9\n",
    "\n",
    "# count method (字串中算字元出現次數的方法)\n",
    "print('message 字串中有幾個 \"h\"?')\n",
    "print(message.count('h'))\n",
    "\n",
    "print('message 字串中有幾個 \"H\"?')\n",
    "print(message.count('H'))\n",
    "\n",
    "print('message 字串中有幾個 \"l\"?')\n",
    "print(message.count('l'))\n"
   ]
  },
  {
   "cell_type": "code",
   "execution_count": 6,
   "id": "dcaf8093",
   "metadata": {},
   "outputs": [
    {
     "name": "stdout",
     "output_type": "stream",
     "text": [
      "字串中有'world'嗎？\n",
      "-1\n",
      "字串中有'World'嗎？\n",
      "-1\n",
      "字串中有'勇'嗎？\n",
      "8\n",
      "字串中有'夏'嗎？\n",
      "-1\n",
      "字串中有' '(空格）嗎？\n",
      "6\n"
     ]
    }
   ],
   "source": [
    "message = 'Hello, 尤勇. 歡迎!'\n",
    "# 字元位置  0123456 78 9\n",
    "\n",
    "# find method (字串中搜尋字元或子字串的方法)\n",
    "print(\"字串中有'world'嗎？\")\n",
    "print(message.find('world'))\n",
    "\n",
    "print(\"字串中有'World'嗎？\")\n",
    "print(message.find('World'))\n",
    "\n",
    "print(\"字串中有'勇'嗎？\")\n",
    "print(message.find('勇'))\n",
    "\n",
    "print(\"字串中有'夏'嗎？\")\n",
    "print(message.find('夏'))\n",
    "\n",
    "print(\"字串中有' '(空格）嗎？\")\n",
    "print(message.find(' '))\n"
   ]
  },
  {
   "cell_type": "code",
   "execution_count": 4,
   "id": "29d9ee7c",
   "metadata": {},
   "outputs": [
    {
     "name": "stdout",
     "output_type": "stream",
     "text": [
      "用'哈囉' 取代 'Hello'\n",
      "哈囉, 尤勇. 歡迎!\n"
     ]
    }
   ],
   "source": [
    "message = 'Hello, 尤勇. 歡迎!'\n",
    "# 字元位置  0123456 78 9\n",
    "\n",
    "# replace method (字串中取代字元或子字串的方法)\n",
    "print(\"用'哈囉' 取代 'Hello'\")\n",
    "message = message.replace('Hello', '哈囉')\n",
    "print(message)"
   ]
  },
  {
   "cell_type": "markdown",
   "id": "6df9602e",
   "metadata": {},
   "source": [
    "### 字串物件可套用的函式（Functions）\n",
    "\n",
    "Python 系統也提供一些內建程式，讓我們寫程式可方便呼叫而且可套用到多個物件，叫做「函式」（Function），這與上面剛學習的物件方法 (Method) 雖然都是可以重覆使用的程式，但不同的是方法配屬在某特定的物件之下的程式，而函式是獨立於物件之外的程式。換言之，函式可以套用到不同的物件類型。\n",
    "\n",
    "Python 方法與函式呼叫的語法也不同：\n",
    "\n",
    "#### 語法\n",
    "\n",
    "\t- 物件方法的呼叫：\n",
    "\t\t\n",
    "\t\t<物件>.<方法名稱>(<參數列>)\n",
    "\t\t\n",
    "用物件名稱加小數點來呼叫方法，如上。\n",
    "\t\t\t\n",
    "\t- 函式的呼叫：\n",
    "\t\t\n",
    "\t\t<函式名稱>(<參數列>)\n",
    "\t\t\n",
    "直接呼叫函式名稱加前後括號，把物件放入括號中當其中之一個參數（Argument) 。\n",
    "\t\t\t\n",
    "比如說 'len ()' 就是一個函式用來測量物件的長度，把量測物件放入括號裡，當參數來呼叫。\n",
    "\t\t\t\n",
    "#### 函式的呼叫例子如下：\n"
   ]
  },
  {
   "cell_type": "code",
   "execution_count": 9,
   "id": "70a7240f",
   "metadata": {},
   "outputs": [
    {
     "name": "stdout",
     "output_type": "stream",
     "text": [
      "len()函式功能是量測物件的長度:\n",
      "6\n",
      "type()函式功能是顯示物件的類型:\n",
      "<class 'str'>\n"
     ]
    }
   ],
   "source": [
    "message = '哈囉，您好!'\n",
    "\n",
    "print(\"len()函式功能是量測物件的長度:\")\n",
    "print(len(message))\n",
    "\n",
    "print(\"type()函式功能是顯示物件的類型:\")\n",
    "print(type(message))"
   ]
  },
  {
   "cell_type": "markdown",
   "id": "1e6ea068",
   "metadata": {},
   "source": [
    "### 字串物件的格式化（Formats）\n",
    "\n",
    "字串最常看到的運算就是放在 print指令的參數中，運行格式化。\n",
    "\t\n",
    "其目的主要是因應人們不同報告格式需求而將字串物件重整，列印出訊息。\n",
    "\t\n",
    "下面我們來學習两種格式化字串物件的例子：\n",
    "\t\n",
    "1. 字串物件 format 方法\n",
    "2. Python 提供的 f-字串指令\n"
   ]
  },
  {
   "cell_type": "code",
   "execution_count": 10,
   "id": "5d38ea67",
   "metadata": {},
   "outputs": [
    {
     "name": "stdout",
     "output_type": "stream",
     "text": [
      "用字串物件的 'format' 方法...\n",
      "哈囉, 尤勇. 歡迎!\n",
      "\n",
      "用 Python 版本3以後才有的 'f-字串指令'...\n",
      "哈囉, 尤勇. 歡迎!\n"
     ]
    }
   ],
   "source": [
    "greeting = '哈囉'\n",
    "name = '尤勇'\n",
    "\n",
    "# using format method (用字串物件的 'format' 方法)\n",
    "print(\"用字串物件的 'format' 方法...\")\n",
    "message1 = '{}, {}. 歡迎!'.format(greeting, name)\n",
    "print(message1)\n",
    "print()\n",
    "\n",
    "# using f-string in Python 3 (用 Python 版本3以後才有的 'f-字串指令')\n",
    "print(\"用 Python 版本3以後才有的 'f-字串指令'...\")\n",
    "message2 = f'{greeting}, {name}. 歡迎!'\n",
    "print(message2)\n"
   ]
  },
  {
   "attachments": {
    "image-11.png": {
     "image/png": "[encoded data removed]"
    }
   },
   "cell_type": "markdown",
   "id": "199c9d3d",
   "metadata": {},
   "source": [
    "### 字串格式化的應用\n",
    "\n",
    "字串物件有很多常用格式化功能，尤其應用在列印上。\n",
    "\n",
    "下面來介紹列印指令如何配合字串格式化帶給我們不同的報表效果。\n",
    "\n",
    "1. 列印指令括號中，若無參數或只有一個空字串，就列印一條空白行\n",
    "2. 列印指令括號中，若有二個字串以上作為参數，之間逗號“，”分開也代表二個字串粘接運算，但中間加印一個空格。\n",
    "\t\t\n",
    "另外 Python 設計字串物件中，可以有反斜線“\\”開頭，視為特別的格式化字元符號。\n",
    "\n",
    "![image-11.png](attachment:image-11.png)\n",
    "\n",
    "用上面的例子，我們加上一些反斜線特别字元試試，看看格式化後帶來什麽不同效果：\n"
   ]
  },
  {
   "cell_type": "code",
   "execution_count": 11,
   "id": "52fe278e",
   "metadata": {},
   "outputs": [
    {
     "name": "stdout",
     "output_type": "stream",
     "text": [
      "用字串物件的 'format' 方法...\n",
      "===>哈囉, 尤勇. 歡迎!\n",
      "\n"
     ]
    }
   ],
   "source": [
    "greeting = '哈囉'\n",
    "name = '尤勇'\n",
    "\n",
    "# using format method (用字串物件的 'format' 方法)\n",
    "print(\"用字串物件的 'format' 方法...\")\n",
    "message1 = '{}, {}. 歡迎!\\n'.format(greeting, name)\n",
    "print('===>' + message1)"
   ]
  },
  {
   "cell_type": "code",
   "execution_count": 9,
   "id": "a362f5eb",
   "metadata": {},
   "outputs": [
    {
     "name": "stdout",
     "output_type": "stream",
     "text": [
      "用 Python 版本3以後才有的 'f-字串指令'...\n",
      "===>哈囉, 尤勇. 歡迎!\n",
      "\n",
      "下一條是空白行...\n",
      "\n",
      "上一條是空白行!\n",
      "\n",
      "哈囉 尤勇\n"
     ]
    }
   ],
   "source": [
    "greeting = '哈囉'\n",
    "name = '尤勇'\n",
    "\n",
    "# using f-string in Python 3 (用 Python 版本3以後才有的 'f-字串指令')\n",
    "print('用 Python 版本3以後才有的 \\'f-字串指令\\'...')\n",
    "message2 = f'{greeting}, {name}. 歡迎!'\n",
    "print(f'===>{message2}\\n')\n",
    "\n",
    "# 1. 列印指令括號中若無參數，就印一條空白行\n",
    "print('下一條是空白行...')\n",
    "print()\n",
    "print('上一條是空白行!\\n')\n",
    "\n",
    "# 2. 列印指令括號中若有二個字串以上作為参數，之間可以用逗號 “，” 代表二字串粘接中間加一個空格列印\n",
    "print(greeting, name)"
   ]
  },
  {
   "cell_type": "markdown",
   "id": "0b87239a",
   "metadata": {},
   "source": [
    "### 字串物件的截取（Slicing）\n",
    "\n",
    "太棒了！字串物件格式化也算簡單吧！\n",
    "\t\n",
    "除了訊息可格式化外，有時候我們要的訊息必須從字串中切開截取出來。\n",
    "\t\n",
    "#### 下面就來學習字串截取，例子如下：\n"
   ]
  },
  {
   "cell_type": "code",
   "execution_count": 19,
   "id": "27c97569",
   "metadata": {},
   "outputs": [
    {
     "name": "stdout",
     "output_type": "stream",
     "text": [
      "字串中，切割出打招呼'哈囉'兩個字元：從第1個字元到第2個字但不包含第2個字元:\n",
      "===>哈囉\n",
      "\n"
     ]
    }
   ],
   "source": [
    "name = '哈囉 我的名字叫尤勇'\n",
    "#       0-1 3 4 5 6  8\n",
    "\n",
    "# 字串可視為一條字元的排列式，位置從0開始算起\n",
    "print(\"字串中，切割出打招呼'哈囉'兩個字元：從第1個字元到第2個字但不包含第2個字元:\")\n",
    "message1 = name[0:2] \n",
    "print(f'===>{message1}\\n')\n"
   ]
  },
  {
   "cell_type": "code",
   "execution_count": 18,
   "id": "1a76735c",
   "metadata": {},
   "outputs": [
    {
     "name": "stdout",
     "output_type": "stream",
     "text": [
      "字串中，切割出'我的名字'四個字元：從第3個字元到第7個字，但不包含第7個字元:\n",
      "===>我的名字\n",
      "\n"
     ]
    }
   ],
   "source": [
    "name = '哈囉 我的名字叫尤勇'\n",
    "#       0-1 3 4 5 6  8\n",
    "\n",
    "print(\"字串中，切割出'我的名字'四個字元：從第3個字元到第7個字，但不包含第7個字元:\")\n",
    "message2 = name[3:7]\n",
    "print(f'===>{message2}\\n')\n"
   ]
  },
  {
   "cell_type": "code",
   "execution_count": 17,
   "id": "816b0dff",
   "metadata": {},
   "outputs": [
    {
     "name": "stdout",
     "output_type": "stream",
     "text": [
      "字串中，切割出名字：從第8個字元到最後一個字元:\n",
      "===>尤勇\n",
      "\n"
     ]
    }
   ],
   "source": [
    "name = '哈囉 我的名字叫尤勇'\n",
    "#       0-1 3 4 5 6  8\n",
    "\n",
    "print(\"字串中，切割出名字：從第8個字元到最後一個字元:\")\n",
    "message3 = name[8:]\n",
    "print(f'===>{message3}\\n')\n"
   ]
  },
  {
   "cell_type": "markdown",
   "id": "88b26805",
   "metadata": {},
   "source": [
    "### 2.2 數字 (Number)\n",
    "\n",
    "第二個常用的資料物件類型：數字。\n",
    "\n",
    "數字物件由以下規則來定義：\n",
    "\n",
    "1. 是一串由0-9十進位數字所組成，例如：12345\n",
    "2. 數字可以有一位小數點，叫浮點數 (float)，例如：123.45\n",
    "3. 數字沒有小數點的叫整數 (integer)，例如：123\n",
    "4. 整數又可分為正整數（如：123）、零（即：0）和負整數（如：-123）\n",
    "\n",
    "Python 又再细分數字物件為：\n",
    "\n",
    "1. 整數物件 (int)\n",
    "2. 浮點數物件 (float)\n",
    "\n",
    "#### 數字物件之間轉換的例子如下：\n"
   ]
  },
  {
   "cell_type": "code",
   "execution_count": 23,
   "id": "2187feb8",
   "metadata": {},
   "outputs": [
    {
     "name": "stdout",
     "output_type": "stream",
     "text": [
      "num_1 = 100 物件類型： <class 'int'>\n",
      "\n",
      "100 是整數物件\n",
      "===>200 也是整數物件!\n",
      "\n",
      "str_1 = \"100\" 物件類型： <class 'str'>\n",
      "\n",
      "100 是字串物件\n",
      "===>\"100100\" 也是字串物件!\n"
     ]
    }
   ],
   "source": [
    "# 字串物件轉換成整數物件\n",
    "num_1 = int('100')\n",
    "print(f'num_1 = {num_1} 物件類型： {type(num_1)}\\n')\n",
    "\n",
    "print(f'{num_1} 是整數物件')\n",
    "print(f'===>{num_1 + num_1} 也是整數物件!\\n')\n",
    "\n",
    "# 整數物件轉換成字串物件\n",
    "str_1 = str(num_1)\n",
    "print(f'str_1 = \"{str_1}\" 物件類型： {type(str_1)}\\n')\n",
    "\n",
    "print(f'{str_1} 是字串物件')\n",
    "print(f'===>\"{str_1 + str_1}\" 也是字串物件!')\n"
   ]
  },
  {
   "cell_type": "code",
   "execution_count": 28,
   "id": "83c97bc5",
   "metadata": {},
   "outputs": [
    {
     "name": "stdout",
     "output_type": "stream",
     "text": [
      "float_1 = 3.45 物件類型： <class 'float'>\n",
      "\n",
      "float_1 浮點數物件轉換成整數物件 = 3\n",
      "\n"
     ]
    }
   ],
   "source": [
    "# 浮點數物件轉換成整數物件\n",
    "float_1 = 3.45\n",
    "float_2 = 3.55\n",
    "print(f'float_1 = {float_1} 物件類型： {type(float_1)}\\n')\n",
    "print(f'float_1 浮點數物件轉換成整數物件 = {round(float_1)}\\n')\n"
   ]
  },
  {
   "cell_type": "markdown",
   "id": "c47e803a",
   "metadata": {},
   "source": [
    "### 數字物件的運算\n",
    "\n",
    "常用的數字物件的算術運算有七種，如下：\n",
    "\n",
    "1. 加（如：x + y）\n",
    "2. 減（如：x - y）\n",
    "3. 乘（如：x  *  y）\n",
    "4. 除（如：x  /  y）\n",
    "5. 餘（如：x  %  y）\n",
    "6. 商（如：x // y）\n",
    "7. 乘冪（如：x ** y）\n",
    "\n",
    "#### 數字物件的算術運算的例子如下：\n"
   ]
  },
  {
   "cell_type": "code",
   "execution_count": 29,
   "id": "94058671",
   "metadata": {},
   "outputs": [
    {
     "name": "stdout",
     "output_type": "stream",
     "text": [
      "3 + 2 = 5\n",
      "3 - 2 = 1\n",
      "3 * 2 = 6\n",
      "3 / 2 = 1.5\n"
     ]
    }
   ],
   "source": [
    "# 1. 加 (addition):              \n",
    "print(f'3 + 2 = {3 + 2}')\n",
    "\n",
    "# 2.減 (Subtraction):         \n",
    "print(f'3 - 2 = {3 - 2}')\n",
    "\n",
    "# 3. 乘 (Multiplication):       \n",
    "print(f'3 * 2 = {3 * 2}')\n",
    "\n",
    "# 4. 除 (Division):\n",
    "print(f'3 / 2 = {3 / 2}')\n"
   ]
  },
  {
   "cell_type": "code",
   "execution_count": 30,
   "id": "641b9484",
   "metadata": {},
   "outputs": [
    {
     "name": "stdout",
     "output_type": "stream",
     "text": [
      "3 % 2 = 1\n",
      "3 // 2 = 1\n",
      "3 ** 2 = 9\n"
     ]
    }
   ],
   "source": [
    "# 5. 餘 (Modulus): \n",
    "print(f'3 % 2 = {3 % 2}')\n",
    "\n",
    "# 6. 商 (Floor Division):      \n",
    "print(f'3 // 2 = {3 // 2}')\n",
    "\n",
    "# 7. 乘幂 (Exponent):\n",
    "print(f'3 ** 2 = {3 ** 2}')\n"
   ]
  },
  {
   "cell_type": "code",
   "execution_count": 31,
   "id": "fbfd6e58",
   "metadata": {},
   "outputs": [
    {
     "name": "stdout",
     "output_type": "stream",
     "text": [
      "num = 1\n",
      "num += 10 是 num = num + 10 加法簡寫\n",
      "num = 11\n",
      "\n",
      "絕對值函式 (abs): -4 絕對值 = 4\n"
     ]
    }
   ],
   "source": [
    "# 還有其他的運算，如下：\n",
    "# 加法簡寫\n",
    "num = 1\n",
    "print(f'num = {num}')\n",
    "\n",
    "# num = num + 10 也可以寫成如下：\n",
    "num += 10\n",
    "print(f'num += 10 是 num = num + 10 加法簡寫\\nnum = {num}\\n')\n",
    "\n",
    "# 絕對值函式 (abs):\n",
    "num = -4\n",
    "print(f'絕對值函式 (abs): {num} 絕對值 = {abs(num)}')\n"
   ]
  },
  {
   "cell_type": "markdown",
   "id": "a72c1d96",
   "metadata": {},
   "source": [
    "#### 問：Python 浮點數如何轉成整數？\n",
    "答：Python 浮點數取整的方法，有四種方式：\n",
    "\n",
    "1. 向下取整:直接用内建的 int() 函数\n",
    "2. 四捨五入到最接近的偶整數: 用 round() 函数\n",
    "3. 向上取整: 需要用到 math 模組中的 ceil() 方法\n",
    "4. 需要分別獲取整數部分和小數部分: 用 math 模組中的 modf() 方法\n",
    "\n",
    "#### 浮點數取整的例子如下："
   ]
  },
  {
   "cell_type": "code",
   "execution_count": 35,
   "id": "b44f86ff",
   "metadata": {},
   "outputs": [
    {
     "name": "stdout",
     "output_type": "stream",
     "text": [
      "1. 向下取整:直接用内建的 int() 函数...\n",
      "3.75 ===> 3\n",
      "3.75 類型是 <class 'float'>\n",
      "3 類型是 <class 'int'>\n",
      "\n"
     ]
    }
   ],
   "source": [
    "\"\"\"Python 浮點數取整的方法1\n",
    "\"\"\"\n",
    "import math  # import 指令是载入 'math' 工具模組（第6章詳述）\n",
    "\n",
    "# 1. 向下取整:直接用内建的 int() 函数即可\n",
    "print(f'1. 向下取整:直接用内建的 int() 函数...')\n",
    "float_1 = 3.75\n",
    "int_1 = int(float_1)\n",
    "print(f'{float_1} ===> {int_1}')\n",
    "print(f'{float_1} 類型是 {type(float_1)}')\n",
    "print(f'{int_1} 類型是 {type(int_1)}\\n')\n",
    "# 3\n"
   ]
  },
  {
   "cell_type": "code",
   "execution_count": 34,
   "id": "91bc1420",
   "metadata": {},
   "outputs": [
    {
     "name": "stdout",
     "output_type": "stream",
     "text": [
      "2. 四捨五入到最接近的數: 用 round() 函数...\n",
      "3.2 ===> 3\n",
      "3.2 類型是 <class 'float'>\n",
      "3 類型是 <class 'int'>\n",
      "\n",
      "round(5.5) ===> 6\n",
      "\n",
      "round(3.85) ===> 3.9 較接近偶整數4\n",
      "3.85 類型是 <class 'float'>\n",
      "3.9 類型是 <class 'float'>\n",
      "\n"
     ]
    }
   ],
   "source": [
    "\"\"\"Python 浮點數取整的方法2\n",
    "\"\"\"\n",
    "\n",
    "# 2. 四捨五入到最接近的數: 用 round() 函数\n",
    "# 注意：round(數字, 目標位數) 函数返回最接近的目標數。\n",
    "# 若有两個目標數，會選擇為偶或較近偶整數的目標數。\n",
    "print(f'2. 四捨五入到最接近的數: 用 round() 函数...')\n",
    "float_1 = 3.2\n",
    "int_1 = round(float_1)\n",
    "print(f'{float_1} ===> {int_1}')\n",
    "print(f'{float_1} 類型是 {type(float_1)}')\n",
    "print(f'{int_1} 類型是 {type(int_1)}\\n')\n",
    "# 3\n",
    "print(f'round(5.5) ===> {round(5.5)}\\n')\n",
    "# 5\n",
    "\n",
    "float_1 = 3.85\n",
    "float_2 = round(float_1, 1)\n",
    "print(f'round(3.85) ===> {float_2} 較接近偶整數4')\n",
    "# 3.9 較接近偶整數4\n",
    "print(f'{float_1} 類型是 {type(float_1)}')\n",
    "print(f'{float_2} 類型是 {type(float_2)}\\n')\n"
   ]
  },
  {
   "cell_type": "code",
   "execution_count": 33,
   "id": "2d38c00b",
   "metadata": {},
   "outputs": [
    {
     "name": "stdout",
     "output_type": "stream",
     "text": [
      "3. 向上取整: 需要用到 math 模組中的 ceil() 方法...\n",
      "math.ceil(3.85) ===> 4\n",
      "3.85 類型是 <class 'float'>\n",
      "4 類型是 <class 'int'>\n",
      "\n",
      "math.ceil(3.14) ===> 4\n",
      "\n",
      "math.ceil(5.85) ===> 6\n",
      "\n"
     ]
    }
   ],
   "source": [
    "\"\"\"Python 浮點數取整的方法3\n",
    "\"\"\"\n",
    "import math  # import 指令是载入 'math' 工具模組（第6章詳述）\n",
    "\n",
    "# 3. 向上取整: 需要用到 math 模組中的 ceil() 方法\n",
    "print(f'3. 向上取整: 需要用到 math 模組中的 ceil() 方法...')\n",
    "float_1 = 3.85\n",
    "int_1 = math.ceil(float_1)\n",
    "print(f'math.ceil(3.85) ===> {int_1}')\n",
    "# 4\n",
    "print(f'{float_1} 類型是 {type(float_1)}')\n",
    "print(f'{int_1} 類型是 {type(int_1)}\\n')\n",
    "\n",
    "print(f'math.ceil(3.14) ===> {math.ceil(3.14)}\\n')\n",
    "# 4\n",
    "print(f'math.ceil(5.85) ===> {math.ceil(5.85)}\\n')\n",
    "# 6\n"
   ]
  },
  {
   "cell_type": "code",
   "execution_count": 32,
   "id": "c6a36625",
   "metadata": {},
   "outputs": [
    {
     "name": "stdout",
     "output_type": "stream",
     "text": [
      "4. 需要分別獲取整數部分和小數部分:...\n",
      "math.modf(3.14) ===> (0.14000000000000012, 3.0)\n",
      "math.modf(3.14) 類型是 <class 'tuple'>\n",
      "\n",
      "(0.8500000000000001, 3.0)\n"
     ]
    }
   ],
   "source": [
    "\"\"\"Python 浮點數取整的方法4\n",
    "\"\"\"\n",
    "import math  # import 指令是载入 'math' 工具模組（第6章詳述）\n",
    "\n",
    "# 4. 需要分別獲取整數部分和小數部分: 用 math 模組中的 modf() 方法\n",
    "# 該方法返回一個包含小數部分和整數部分的元組>>> import math\n",
    "print(f'4. 需要分別獲取整數部分和小數部分:...')\n",
    "float_1 = 3.14\n",
    "print(f'math.modf(3.14) ===> {math.modf(3.14)}')\n",
    "#(0.14, 3.0)\n",
    "print(f'math.modf(3.14) 類型是 {type(math.modf(float_1))}\\n')\n",
    "\n",
    "print(math.modf(3.85))\n",
    "#(0.85, 3.0)\n"
   ]
  },
  {
   "attachments": {},
   "cell_type": "markdown",
   "id": "9b7ba25f",
   "metadata": {},
   "source": [
    "### 2.3 布林值（Boolean）\n",
    "\n",
    "目前為止我們已經學習了字串、數字這兩種資料物件的類型。第三個資料物件類型：布林值，我們繼續來學習。\n",
    "\n",
    "布林值物件有以下特色：\n",
    "\n",
    "1. 不像字串、數字，布林值是比較簡單但特殊的物件，它只有兩個固定值：\"真\"和\"偽\"。\n",
    "2. 布林真值 Python 保留字是：True\n",
    "3. 布林偽值 Python 保留字是：False\n",
    "\t\t\n",
    "#### 注意：True 和 False 第一個字母是大寫。\n",
    "\t\n",
    "#### 以下假設指令例子，如下：\n"
   ]
  },
  {
   "cell_type": "code",
   "execution_count": 1,
   "id": "47d9c561",
   "metadata": {},
   "outputs": [
    {
     "name": "stdout",
     "output_type": "stream",
     "text": [
      "x = 0\n",
      "y = 5\n",
      "bool_exp 物件類型: <class 'bool'>\n",
      "\n"
     ]
    }
   ],
   "source": [
    "x = 0\n",
    "y = 5\n",
    "print(f'x = {x}\\ny = {y}')\n",
    "\n",
    "bool_exp = x > y\n",
    "print(f'bool_exp 物件類型: {type(bool_exp)}\\n')\n"
   ]
  },
  {
   "attachments": {},
   "cell_type": "markdown",
   "id": "988ffbdb",
   "metadata": {},
   "source": [
    "### 布林值的用法\n",
    "\n",
    "有了布林值，我們可以設定條件讓 Python 作邏輯判斷其真偽而執行不同的任務。與布林值相關的控制指令中，最常用的就是假設指令（if statement)。\n",
    "\n",
    "假設指令的功能就是根據一個條件敘述 (conditional expression，或 condition) 的真偽判斷，比如説兩個整數： x 和 y 比較大小，條件敘述就是 \"x > y\"。經過這個條件敘述運算最後，Python 得出一個或真或偽的布林值。再配合下面將介紹的假設指令，我們的程式就有邏輯判斷的功能了。\n",
    "\n",
    "### 「假設 」指令：if statement\n",
    "\n",
    "#### 語法\n",
    "\n",
    "\tif <條件敘述1成真>：\n",
    "\t\t\t<程式區塊 A>\n",
    "\t\t\t\n",
    "\t[elif <條件敘述2成真>：\n",
    "\t\t\t<程式區塊 B>]\n",
    "\t\t\t\n",
    "\t[else ：\n",
    "\t\t\t<程式區塊 C>]\n",
    "\t\n",
    "其中：\n",
    "\n",
    "1. 假設指令由三種保留字組成：if, elif, 及else\n",
    "2.  if  敘述一定要有\n",
    "3. 其他两種 elif 和 else 敘述看需要條件而定\n",
    "4. elif 可以多個而 else 最多只能出現一次\n",
    "5. 條件敍述（conditional expression）\n",
    "\t不管是簡單或複合的條件，只要 Python 能判斷出布林值即可\n",
    "6. 每一個程式區塊都要同一排縮格（identation）\n",
    "\n",
    "Python 用縮格來分別執行不同的程式區塊\n",
    "\t\n",
    "#### Python 執行假設指令時：\n",
    "\n",
    "1. 首先判斷<條件敘述1>的真偽\n",
    "2. 若<條件敘述1>為真，則執行<程式區塊 A>\n",
    "3. 若<條件敘述1>為偽，則執行 elif 判斷<條件敘述2>的真偽\n",
    "4. 若<條件敘述2>為真，則執行<程式區塊 B>\n",
    "5. 若<條件敘述2>為偽，則執行 else 的<程式區塊 C>\n",
    "\t\n",
    "#### 注意：\n",
    "\n",
    "1. 三個程式區塊 A, B, C中，假設指令只有擇一區塊執行。\n",
    "2. 有保留字:  if , elif, 和 else 的那一行最後的字元必須是「：」。\n",
    "\n",
    "#### 以下假設指令例子，如下：\n"
   ]
  },
  {
   "cell_type": "code",
   "execution_count": 3,
   "id": "9b3ac62b",
   "metadata": {},
   "outputs": [
    {
     "name": "stdout",
     "output_type": "stream",
     "text": [
      "x 小於 y\n"
     ]
    }
   ],
   "source": [
    "x = 0\n",
    "y = 5\n",
    "\n",
    "if x > y:\n",
    "    # <程式區塊 A>\n",
    "    print('x 大於 y')  \n",
    "elif x < y:\n",
    "    # <程式區塊 B>\n",
    "    print('x 小於 y')   \n",
    "else:\n",
    "    # <程式區塊 C>\n",
    "    print('x 等於 y')\n"
   ]
  },
  {
   "cell_type": "markdown",
   "id": "45b89bbf",
   "metadata": {},
   "source": [
    "#### 簡單的條件敍述例子"
   ]
  },
  {
   "cell_type": "code",
   "execution_count": 9,
   "id": "9eb57154",
   "metadata": {},
   "outputs": [
    {
     "name": "stdout",
     "output_type": "stream",
     "text": [
      "x 是零\n",
      "y 不是零\n"
     ]
    }
   ],
   "source": [
    "x = 0\n",
    "y = 5\n",
    "\n",
    "# 簡單的條件敍述\n",
    "if x != 0:\n",
    "    print('x 不是零')\n",
    "else:\n",
    "    print('x 是零')\n",
    "\n",
    "# 整數0視為偽\n",
    "if y:\n",
    "    print('y 不是零')\n",
    "else:\n",
    "    print('y 是零')\n",
    "    "
   ]
  },
  {
   "cell_type": "markdown",
   "id": "7d899356",
   "metadata": {},
   "source": [
    "#### 複合條件敍述例子"
   ]
  },
  {
   "cell_type": "code",
   "execution_count": 6,
   "id": "24b3d068",
   "metadata": {},
   "outputs": [
    {
     "name": "stdout",
     "output_type": "stream",
     "text": [
      "x 或 y 至少有一個不是零\n"
     ]
    }
   ],
   "source": [
    "x = 0\n",
    "y = 5\n",
    "\n",
    "# 用 or 或 and 组成的複合條件敍述\n",
    "if x==0 or y==0:\n",
    "    print('x 或 y 至少有一個不是零')\n",
    "    \n",
    "if x!=0 and y!=0:\n",
    "    print('x 和 y 两個皆不是零')\n",
    "    "
   ]
  },
  {
   "attachments": {
    "image-2.png": {
     "image/png": "[encoded data removed]"
    }
   },
   "cell_type": "markdown",
   "id": "6ded9a92",
   "metadata": {},
   "source": [
    "#### 問：上面學的餘數運算\"%\"在程式上如何應用呢？\n",
    "答：餘數運算應用很廣。\n",
    "\n",
    "一個最常見的應用，如下：\n",
    "\n",
    "當我們要判斷一個整數是偶數或是奇數。寫程式時，配合假設指令就可以完成。\n",
    "\n",
    "所以我們的程式邏輯，流程如下：\n",
    "\n",
    "![image-2.png](attachment:image-2.png)\n",
    "\n",
    "接著我們試著以程式來說明餘數的應用：\n"
   ]
  },
  {
   "cell_type": "code",
   "execution_count": 17,
   "id": "0fd58c96",
   "metadata": {},
   "outputs": [
    {
     "name": "stdout",
     "output_type": "stream",
     "text": [
      "請輸入一個正整數: 142857\n",
      "142857 是奇數!\n"
     ]
    }
   ],
   "source": [
    "num_str = input('請輸入一個正整數: ')\n",
    "\n",
    "# 字串轉換成整數\n",
    "num = int(num_str)\n",
    "                \n",
    "if num > 0:\n",
    "    if (num % 2):\n",
    "        print(f'{num} 是奇數!')\n",
    "    else:\n",
    "        print(f'{num} 是偶數!')\n",
    "else:\n",
    "    print(f'{num} 不是正整數，無法判斷是偶數或是奇數!')"
   ]
  },
  {
   "attachments": {},
   "cell_type": "markdown",
   "id": "47160472",
   "metadata": {},
   "source": [
    "#### 問：條件敍述中，數字物件的比較真偽，應該很常用吧？\n",
    "答：是的。\n",
    "\n",
    "有六個常用的數字比較運算判断數字之間大小關係：\n",
    "\n",
    "1. 等於（如：x == y）\n",
    "2. 不等於（如：x != y）\n",
    "3. 大於（如：x > y）\n",
    "4. 小於（如：x < y）\n",
    "5. 大於或等於（如：x >= y）\n",
    "6. 小於或等於（如：x <= y）\n",
    "\t\n",
    "\n",
    "#### 數字的比較大小，例子如下：\n"
   ]
  },
  {
   "cell_type": "code",
   "execution_count": 10,
   "id": "dd901327",
   "metadata": {},
   "outputs": [
    {
     "name": "stdout",
     "output_type": "stream",
     "text": [
      "num_1 = 3, num_2 = 2\n",
      "\n",
      "問：3 == 2 嗎?\n",
      "答：False\n",
      "問：3 != 2 嗎?\n",
      "答：True\n",
      "問：3 > 2 嗎?\n",
      "答：True\n",
      "問：3 < 2 嗎?\n",
      "答：False\n",
      "問：3 >= 2 嗎?\n",
      "答：True\n",
      "問：3 <= 2 嗎?\n",
      "答：False\n"
     ]
    }
   ],
   "source": [
    "num_1 = 3\n",
    "num_2 = 2\n",
    "print(f'num_1 = {num_1}, num_2 = {num_2}\\n')\n",
    "\n",
    "# 1. 等於（如：x == y）\n",
    "print(f'問：{num_1} == {num_2} 嗎?')\n",
    "print (f'答：{num_1 == num_2}')\n",
    "\n",
    "# 2. 不等於（如：x != y）\n",
    "print(f'問：{num_1} != {num_2} 嗎?')\n",
    "print (f'答：{num_1 != num_2}')\n",
    "\n",
    "# 3. 大於（如：x > y）\n",
    "print(f'問：{num_1} > {num_2} 嗎?')\n",
    "print (f'答：{num_1 > num_2}')\n",
    "\n",
    "# 4. 小於（如：x < y）\n",
    "print(f'問：{num_1} < {num_2} 嗎?')\n",
    "print (f'答：{num_1 < num_2}')\n",
    "\n",
    "# 5. 大於或等於（如：x >= y）\n",
    "print(f'問：{num_1} >= {num_2} 嗎?')\n",
    "print (f'答：{num_1 >= num_2}')\n",
    "\n",
    "# 6. 小於或等於（如：x <= y）\n",
    "print(f'問：{num_1} <= {num_2} 嗎?')\n",
    "print (f'答：{num_1 <= num_2}')"
   ]
  },
  {
   "attachments": {},
   "cell_type": "markdown",
   "id": "0f8b3c1b",
   "metadata": {},
   "source": [
    "#### 問：條件敍述中，字串物件也能比較真偽嗎？\n",
    "答：是的。\n",
    "\n",
    "字串物件的比較通常可以是兩種情況：\n",
    "\t\n",
    "1. 比較字串的内容是否相同。\n",
    "2. 呼叫字串物件方法 (method) 後，比較返回值 (returned value) 與期望值是否相同。\n",
    "\t\n",
    "\n",
    "#### 字串物件的條件敍述比較運算，例子如下：\n"
   ]
  },
  {
   "cell_type": "code",
   "execution_count": 12,
   "id": "0e0272e0",
   "metadata": {},
   "outputs": [
    {
     "name": "stdout",
     "output_type": "stream",
     "text": [
      "程式語言是 Python\n",
      "\n"
     ]
    }
   ],
   "source": [
    "# 1. 比較字串的内容條件是否相同\n",
    "language = 'Python'\n",
    "\n",
    "if language == 'Python':\n",
    "    print('程式語言是 Python\\n')\n",
    "elif language == 'Java':\n",
    "    print('程式語言是 Java\\n')\n",
    "elif language == 'JavaScript':\n",
    "    print('程式語言是 JavaScript\\n')\n",
    "else:\n",
    "    print('程式語言未知\\n')\n"
   ]
  },
  {
   "cell_type": "code",
   "execution_count": 17,
   "id": "7ff064fe",
   "metadata": {},
   "outputs": [
    {
     "name": "stdout",
     "output_type": "stream",
     "text": [
      "問：字串=\"哈囉, 尤勇. 歡迎!\" 中含有字串=\"勇\" 嗎？\n",
      "答：\"哈囉, 尤勇. 歡迎!\"字串中，在第 5 個索引是:\"勇\"\n",
      "\n"
     ]
    }
   ],
   "source": [
    "# 2. 呼叫字串物件方法 (method) 後，比較返回值與期望值是否相同\n",
    "message = '哈囉, 尤勇. 歡迎!'\n",
    "target = '勇'\n",
    "print(f'問：字串=\"{message}\" 中含有字串=\"{target}\" 嗎？')\n",
    "\n",
    "# 字串中，搜尋字元或子字串的方法: find() \n",
    "index = message.find(target)\n",
    "if  index == -1:\n",
    "    print(f'答：\"{message}\"字串中，没有:\"{target}\"\\n')\n",
    "else:\n",
    "    print(f'答：\"{message}\"字串中，在第 {index} 個索引是:\"{target}\"\\n')\n"
   ]
  }
 ],
 "metadata": {
  "kernelspec": {
   "display_name": "Python 3 (ipykernel)",
   "language": "python",
   "name": "python3"
  },
  "language_info": {
   "codemirror_mode": {
    "name": "ipython",
    "version": 3
   },
   "file_extension": ".py",
   "mimetype": "text/x-python",
   "name": "python",
   "nbconvert_exporter": "python",
   "pygments_lexer": "ipython3",
   "version": "3.9.7"
  }
 },
 "nbformat": 4,
 "nbformat_minor": 5
}
