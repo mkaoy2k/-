{
 "cells": [
  {
   "attachments": {},
   "cell_type": "markdown",
   "id": "b37f8821",
   "metadata": {},
   "source": [
    "## 第5章 自訂函式 (Functions)\n",
    "\n",
    "函式 (Function) 的應用非常廣泛，前面章節中我們已經學習過多個函式，比如：input() 、range()、len() 等函式，這些都是 Python 的內建函式，可以直接使用。\n",
    "\n",
    "除了可以直接使用的內建函式外，Python 還讓我們自訂函式，也就是說讓我們自己把一段可重複使用的程式定義成函式，以便一次編寫，而後可以多次調用，也可以供他人使用。自利又利他，很棒吧！\n",
    "\n",
    "下面就來學習如何自訂函式。\n",
    "\n",
    "### 「定義函式」指令 (def statement)\n",
    "\n",
    "#### 語法\n",
    "\n",
    "\tdef <函式名稱> (<參數列>):\n",
    "    \n",
    "\t\t    <程式區塊>\n",
    "    \n",
    "\t\t    return <回值>\n",
    "\n",
    "其中:\n",
    "\n",
    "1. def 意思是 define（定義）宣告一個函式的開始\n",
    "2. 函式名稱，命名規則與變數命名規則相同\n",
    "3. 參數列中每一個參數都是變數，兩個參數間須以逗號 ‘，’ 分開\n",
    "4. 參數種類又分：位置參數和關鍵字參數两種\n",
    "5. 位置參數只有變數名稱，依參數列的位置順序排列\n",
    "6. 關鍵字 (keyword) 參數就是 '<變數>=<預設值>' 的型式定義\n",
    "7. 程式區塊必須至少一個縮格開始定義\n",
    "8. 函式結束前，Python 讓我們用 return 返回指令，返回到呼叫程式\n",
    "9. 返回時，也可以視需求帶回一個回值物件（returned object)\n",
    "\t\n",
    "#### 自訂函式例子如下：\n"
   ]
  },
  {
   "cell_type": "code",
   "execution_count": 1,
   "id": "2372a8e9",
   "metadata": {},
   "outputs": [
    {
     "name": "stdout",
     "output_type": "stream",
     "text": [
      "bigger (3, 5): 5\n",
      "smaller (7, 9): 7\n"
     ]
    }
   ],
   "source": [
    "def bigger(a, b):\n",
    "    # 例子1：两數比較大小，返回較大的數字\n",
    "    if a >= b:\n",
    "        return a\n",
    "    else:\n",
    "        return b\n",
    "\n",
    "def smaller(a, b):\n",
    "    # 例子2：两數比較大小，返回較小的數字\n",
    "    if a >= b:\n",
    "        return b\n",
    "    else:\n",
    "        return a\n",
    "  \n",
    "print(f'bigger (3, 5): {bigger(3, 5)}')\n",
    "print(f'smaller (7, 9): {smaller(7, 9)}')\n"
   ]
  },
  {
   "cell_type": "markdown",
   "id": "f4a2d582",
   "metadata": {},
   "source": [
    "#### 注意\n",
    "\n",
    "1. 若參數列含有位置參數和關鍵字參數兩種時，所有位置參數必須放在關鍵字參數之前\n",
    "2. 注意保留字 def 那一行最後的字元必須是「：」\n"
   ]
  },
  {
   "cell_type": "code",
   "execution_count": 3,
   "id": "8231b1fd",
   "metadata": {},
   "outputs": [
    {
     "name": "stdout",
     "output_type": "stream",
     "text": [
      "hello_func() 物件類型是: <class 'function'>\n",
      "<function hello_func at 0x7fbd8eeb5430>\n",
      "===>哈囉, You\n",
      "===>哈囉, 尤勇\n"
     ]
    }
   ],
   "source": [
    "def hello_func(greeting, name = 'You'):\n",
    "    # 位置參數必須放在關鍵字參數之前\n",
    "    return f'{greeting}, {name}'\n",
    "\n",
    "# location of function\n",
    "print(f'hello_func() 物件類型是: {type(hello_func)}')\n",
    "print(hello_func) # 沒有小括號，Python 只印函式定義，不會執行函式\n",
    "\n",
    "# 呼叫並執行函式，省掉一個有預設值的參數\n",
    "print(hello_func('===>哈囉'))\n",
    "\n",
    "# 呼叫並執行函式，二個參數\n",
    "print(hello_func('===>哈囉', name='尤勇'))\n"
   ]
  },
  {
   "cell_type": "code",
   "execution_count": 54,
   "id": "f5d81abe",
   "metadata": {},
   "outputs": [
    {
     "name": "stdout",
     "output_type": "stream",
     "text": [
      "Student info listed below:\n",
      "\t ('Math', 'Art')\n",
      "\t {'name': 'John', 'age': 22}\n",
      "Student info listed below:\n",
      "\t ('Math', 'Art')\n",
      "\t {'name': 'John', 'age': 22}\n"
     ]
    }
   ],
   "source": [
    "# 例子：自訂函式列印學員資料\n",
    "\n",
    "def student_info(*args, **kwargs):\n",
    "\tprint('Student info listed below:')\n",
    "\tprint('\\t', args)\n",
    "\tprint('\\t', kwargs)\n",
    "\n",
    "# Notice that \"=\" b/t keyword and value when calling the function\n",
    "#    but the function returns key-value paors with \":\" as a dictionary\n",
    "student_info('Math', 'Art', name='John', age=22)\n",
    "\n",
    "courses = ['Math', 'Art']\n",
    "info = {'name': 'John', 'age': 22}\n",
    "\n",
    "student_info(*courses, **info)\n"
   ]
  },
  {
   "cell_type": "code",
   "execution_count": 55,
   "id": "355b8426",
   "metadata": {},
   "outputs": [
    {
     "name": "stdout",
     "output_type": "stream",
     "text": [
      "問：Year 2017 閏年嗎? False\n",
      "答：2017 年 8 月有: 31 days\n",
      "\n",
      "問：Year 2000 閏年嗎? True\n",
      "答：2000 年 2 月有: 29 days\n",
      "\n",
      "問：Year 2022 閏年嗎? False\n",
      "答：2022 年 2 月有: 28 days\n",
      "\n"
     ]
    }
   ],
   "source": [
    "# 例子：自訂函式判斷閏年月與否\n",
    "\n",
    "# 每個月天數 \n",
    "month_days = [0, 31, 28, 31, 30, 31, 30, 31, 31, 30, 31, 30 ,31]\n",
    "#                 1   2   3   4   5   6   7   8   9  10  11  12\n",
    "\n",
    "def is_leap(year):\n",
    "    \"\"\" 閏年回覆為真，否則為偽\n",
    "    Return True for leap years,\n",
    "    False for non-leap year.\"\"\"\n",
    "\n",
    "    return year % 4 == 0 and (year % 100 != 0 or year % 400 == 0)\n",
    "\n",
    "def days_in_month(year, month):\n",
    "    \"\"\"由年月份判斷該月份有幾天\n",
    "    Return number of days, given a year and a month.\"\"\"\n",
    "\n",
    "    # checking valid month\n",
    "    if not 1 <= month <= 12:\n",
    "        return '非正常月份'\n",
    "\n",
    "    # checking if it is a leap year\n",
    "    if month == 2 and is_leap(year):\n",
    "        return 29\n",
    "\n",
    "    return month_days[month]\n",
    "\n",
    "year = 2017\n",
    "month = 8\n",
    "print(f'問：Year {year} 閏年嗎?', is_leap(year))\n",
    "print(f'答：{year} 年 {month} 月有: {days_in_month(year, month)} days\\n')\n",
    "\n",
    "year = 2000\n",
    "month = 2\n",
    "print(f'問：Year {year} 閏年嗎?', is_leap(year))\n",
    "print(f'答：{year} 年 {month} 月有: {days_in_month(year, month)} days\\n')\n",
    "\n",
    "year = 2022\n",
    "month = 2\n",
    "print(f'問：Year {year} 閏年嗎?', is_leap(year))\n",
    "print(f'答：{year} 年 {month} 月有: {days_in_month(year, month)} days\\n')\n"
   ]
  }
 ],
 "metadata": {
  "kernelspec": {
   "display_name": "Python 3 (ipykernel)",
   "language": "python",
   "name": "python3"
  },
  "language_info": {
   "codemirror_mode": {
    "name": "ipython",
    "version": 3
   },
   "file_extension": ".py",
   "mimetype": "text/x-python",
   "name": "python",
   "nbconvert_exporter": "python",
   "pygments_lexer": "ipython3",
   "version": "3.9.7"
  }
 },
 "nbformat": 4,
 "nbformat_minor": 5
}
